{
  "nbformat": 4,
  "nbformat_minor": 0,
  "metadata": {
    "colab": {
      "provenance": []
    },
    "kernelspec": {
      "name": "python3",
      "display_name": "Python 3"
    },
    "language_info": {
      "name": "python"
    }
  },
  "cells": [
    {
      "cell_type": "code",
      "execution_count": null,
      "metadata": {
        "id": "AHQkqrVMBmfo"
      },
      "outputs": [],
      "source": [
        "import pandas as pd\n",
        "import tensorflow as tf\n",
        "from tensorflow.keras import models\n",
        "from tensorflow.keras import layers\n",
        "from sklearn.datasets import fetch_california_housing\n",
        "import sklearn.metrics\n"
      ]
    },
    {
      "cell_type": "code",
      "source": [
        "df=fetch_california_housing()"
      ],
      "metadata": {
        "id": "6ystLhiNCT5I"
      },
      "execution_count": null,
      "outputs": []
    },
    {
      "cell_type": "code",
      "source": [
        "x = df.data"
      ],
      "metadata": {
        "id": "N7yUFv5wPAI0"
      },
      "execution_count": null,
      "outputs": []
    },
    {
      "cell_type": "code",
      "source": [
        "y=df.target\n"
      ],
      "metadata": {
        "id": "1QYqBd_aPBzc"
      },
      "execution_count": null,
      "outputs": []
    },
    {
      "cell_type": "code",
      "source": [
        "from sklearn.model_selection import train_test_split\n",
        "x_train,x_test,y_train,y_test=train_test_split(x,y,test_size=0.2,random_state=42)"
      ],
      "metadata": {
        "id": "kljgh760PcIz"
      },
      "execution_count": null,
      "outputs": []
    },
    {
      "cell_type": "code",
      "source": [
        "from sklearn.preprocessing import StandardScaler\n",
        "ss=StandardScaler()\n",
        "x_train=ss.fit_transform(x_train)\n",
        "x_test=ss.transform(x_test)"
      ],
      "metadata": {
        "id": "rsPUzOrzQ61a"
      },
      "execution_count": null,
      "outputs": []
    },
    {
      "cell_type": "code",
      "source": [
        "inputval=x_train.shape[1]\n",
        "input=tf.keras.Input(shape=(inputval,))\n",
        "hidden=layers.Dense(16,activation='relu')(input)\n",
        "output=layers.Dense(1,activation='relu')(hidden)"
      ],
      "metadata": {
        "id": "b4ogQ8nwRDgb"
      },
      "execution_count": null,
      "outputs": []
    },
    {
      "cell_type": "code",
      "source": [
        "model=tf.keras.Model(inputs=input,outputs=output)"
      ],
      "metadata": {
        "id": "4OsG8oJtRvm2"
      },
      "execution_count": null,
      "outputs": []
    },
    {
      "cell_type": "code",
      "source": [
        "model.compile(optimizer='adam',loss='mean_squared_error')"
      ],
      "metadata": {
        "id": "Ydzp3rc1UvnP"
      },
      "execution_count": null,
      "outputs": []
    },
    {
      "cell_type": "markdown",
      "source": [],
      "metadata": {
        "id": "ONJn5UZCWHpi"
      }
    },
    {
      "cell_type": "code",
      "source": [
        "model.fit(x_train, y_train, epochs=15, batch_size=16, validation_split=0.2)\n"
      ],
      "metadata": {
        "colab": {
          "base_uri": "https://localhost:8080/"
        },
        "id": "PlGA8ejYVI7U",
        "outputId": "628c7f4b-0112-4fdd-8049-065272f5a77e"
      },
      "execution_count": null,
      "outputs": [
        {
          "output_type": "stream",
          "name": "stdout",
          "text": [
            "Epoch 1/15\n",
            "826/826 [==============================] - 5s 6ms/step - loss: 0.3485 - val_loss: 0.3767\n",
            "Epoch 2/15\n",
            "826/826 [==============================] - 3s 4ms/step - loss: 0.3442 - val_loss: 0.3738\n",
            "Epoch 3/15\n",
            "826/826 [==============================] - 2s 3ms/step - loss: 0.3400 - val_loss: 0.3819\n",
            "Epoch 4/15\n",
            "826/826 [==============================] - 2s 2ms/step - loss: 0.3397 - val_loss: 0.3718\n",
            "Epoch 5/15\n",
            "826/826 [==============================] - 2s 2ms/step - loss: 0.3393 - val_loss: 0.3729\n",
            "Epoch 6/15\n",
            "826/826 [==============================] - 2s 2ms/step - loss: 0.3356 - val_loss: 0.3634\n",
            "Epoch 7/15\n",
            "826/826 [==============================] - 2s 3ms/step - loss: 0.3337 - val_loss: 0.3634\n",
            "Epoch 8/15\n",
            "826/826 [==============================] - 2s 2ms/step - loss: 0.3328 - val_loss: 0.3649\n",
            "Epoch 9/15\n",
            "826/826 [==============================] - 2s 2ms/step - loss: 0.3331 - val_loss: 0.4047\n",
            "Epoch 10/15\n",
            "826/826 [==============================] - 2s 2ms/step - loss: 0.3289 - val_loss: 0.3588\n",
            "Epoch 11/15\n",
            "826/826 [==============================] - 2s 2ms/step - loss: 0.3278 - val_loss: 0.3586\n",
            "Epoch 12/15\n",
            "826/826 [==============================] - 2s 2ms/step - loss: 0.3279 - val_loss: 0.3512\n",
            "Epoch 13/15\n",
            "826/826 [==============================] - 2s 2ms/step - loss: 0.3263 - val_loss: 0.3531\n",
            "Epoch 14/15\n",
            "826/826 [==============================] - 2s 3ms/step - loss: 0.3263 - val_loss: 0.3963\n",
            "Epoch 15/15\n",
            "826/826 [==============================] - 2s 2ms/step - loss: 0.3380 - val_loss: 0.3591\n"
          ]
        },
        {
          "output_type": "execute_result",
          "data": {
            "text/plain": [
              "<keras.src.callbacks.History at 0x78837d216290>"
            ]
          },
          "metadata": {},
          "execution_count": 89
        }
      ]
    },
    {
      "cell_type": "code",
      "source": [
        "loss_val=model.evaluate(x_test,y_test)\n",
        "loss_val"
      ],
      "metadata": {
        "colab": {
          "base_uri": "https://localhost:8080/"
        },
        "id": "Yc3dAtsWVSfQ",
        "outputId": "7b184665-7fa5-445a-c217-76e86f1f1191"
      },
      "execution_count": null,
      "outputs": [
        {
          "output_type": "stream",
          "name": "stdout",
          "text": [
            "129/129 [==============================] - 0s 2ms/step - loss: 0.3450\n"
          ]
        },
        {
          "output_type": "execute_result",
          "data": {
            "text/plain": [
              "0.34503889083862305"
            ]
          },
          "metadata": {},
          "execution_count": 90
        }
      ]
    },
    {
      "cell_type": "code",
      "source": [],
      "metadata": {
        "id": "saT8xhoVW3eN"
      },
      "execution_count": null,
      "outputs": []
    }
  ]
}